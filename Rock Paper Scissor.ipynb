{
 "cells": [
  {
   "cell_type": "code",
   "execution_count": 1,
   "id": "160cae00",
   "metadata": {},
   "outputs": [
    {
     "name": "stdout",
     "output_type": "stream",
     "text": [
      "What do you choose? 0 for rock, 1 for paper, 2 for scissors. 2\n",
      "You chose 2\n",
      "\n",
      "    _______\n",
      "---'   ____)____\n",
      "          ______)\n",
      "       __________)\n",
      "      (____)\n",
      "---.__(___)\n",
      "\n",
      "Computer choose 1\n",
      "\n",
      "    _______\n",
      "---'   ____)____\n",
      "          ______)\n",
      "          _______)\n",
      "         _______)\n",
      "---.__________)\n",
      "\n",
      "You win!\n"
     ]
    }
   ],
   "source": [
    "import random\n",
    "rock = '''\n",
    "    _______\n",
    "---'   ____)\n",
    "      (_____)\n",
    "      (_____)\n",
    "      (____)\n",
    "---.__(___)\n",
    "'''\n",
    "\n",
    "paper = '''\n",
    "    _______\n",
    "---'   ____)____\n",
    "          ______)\n",
    "          _______)\n",
    "         _______)\n",
    "---.__________)\n",
    "'''\n",
    "\n",
    "scissors = '''\n",
    "    _______\n",
    "---'   ____)____\n",
    "          ______)\n",
    "       __________)\n",
    "      (____)\n",
    "---.__(___)\n",
    "'''\n",
    "\n",
    "actions = [rock, paper, scissors]\n",
    "x = len(actions)\n",
    "user_action = int(input(\"What do you choose? 0 for rock, 1 for paper, 2 for scissors. \"))\n",
    "if user_action >= 3 or user_action < 0:\n",
    "  print(\"you typed Invalid number. You lose!\")\n",
    "\n",
    "else:\n",
    "  print(f\"You chose {user_action}\")\n",
    "  print(actions[user_action])\n",
    "    \n",
    "  computer_action = random.randint(0,x-1)\n",
    "  print(f\"Computer choose {computer_action}\")\n",
    "  print(actions[computer_action])\n",
    "  \n",
    "  if user_action == computer_action:\n",
    "      print(\"It's a tie!\")\n",
    "  elif user_action == 0:\n",
    "      if computer_action == 2:\n",
    "          print(\"You win!\")\n",
    "      else:\n",
    "          print(\"You lose.\")\n",
    "  elif user_action == 1:\n",
    "      if computer_action == 0:\n",
    "          print(\"You win!\")\n",
    "      else:\n",
    "          print(\"You lose.\")\n",
    "  elif user_action == 2:\n",
    "      if computer_action == 1:\n",
    "          print(\"You win!\")\n",
    "      else:\n",
    "          print(\"You lose.\")"
   ]
  },
  {
   "cell_type": "code",
   "execution_count": null,
   "id": "e4e39fe7",
   "metadata": {},
   "outputs": [],
   "source": []
  }
 ],
 "metadata": {
  "kernelspec": {
   "display_name": "Python 3 (ipykernel)",
   "language": "python",
   "name": "python3"
  },
  "language_info": {
   "codemirror_mode": {
    "name": "ipython",
    "version": 3
   },
   "file_extension": ".py",
   "mimetype": "text/x-python",
   "name": "python",
   "nbconvert_exporter": "python",
   "pygments_lexer": "ipython3",
   "version": "3.10.9"
  }
 },
 "nbformat": 4,
 "nbformat_minor": 5
}
